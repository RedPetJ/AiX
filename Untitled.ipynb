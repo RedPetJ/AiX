{
 "cells": [
  {
   "cell_type": "code",
   "execution_count": 18,
   "id": "d6f424b5",
   "metadata": {},
   "outputs": [],
   "source": [
    "import pandas as pd\n",
    "import matplotlib.pyplot as plt"
   ]
  },
  {
   "cell_type": "code",
   "execution_count": 28,
   "id": "bacade69",
   "metadata": {},
   "outputs": [
    {
     "data": {
      "text/html": [
       "<div>\n",
       "<style scoped>\n",
       "    .dataframe tbody tr th:only-of-type {\n",
       "        vertical-align: middle;\n",
       "    }\n",
       "\n",
       "    .dataframe tbody tr th {\n",
       "        vertical-align: top;\n",
       "    }\n",
       "\n",
       "    .dataframe thead th {\n",
       "        text-align: right;\n",
       "    }\n",
       "</style>\n",
       "<table border=\"1\" class=\"dataframe\">\n",
       "  <thead>\n",
       "    <tr style=\"text-align: right;\">\n",
       "      <th>월</th>\n",
       "      <th>확진자수</th>\n",
       "      <th>소비자 물가 지수</th>\n",
       "      <th>가구 실질 소득 증감률</th>\n",
       "      <th>가구 명목 소득 증감률</th>\n",
       "    </tr>\n",
       "  </thead>\n",
       "  <tbody>\n",
       "    <tr>\n",
       "      <th>2020-04-01 00:00:00</th>\n",
       "      <td>979.0</td>\n",
       "      <td>0.1</td>\n",
       "      <td>3.6</td>\n",
       "      <td>3.5</td>\n",
       "    </tr>\n",
       "    <tr>\n",
       "      <th>2020-05-01 00:00:00</th>\n",
       "      <td>703.0</td>\n",
       "      <td>-0.3</td>\n",
       "      <td>3.6</td>\n",
       "      <td>3.5</td>\n",
       "    </tr>\n",
       "    <tr>\n",
       "      <th>2020-06-01 00:00:00</th>\n",
       "      <td>1334.0</td>\n",
       "      <td>0.0</td>\n",
       "      <td>3.6</td>\n",
       "      <td>3.5</td>\n",
       "    </tr>\n",
       "    <tr>\n",
       "      <th>2020-07-01 00:00:00</th>\n",
       "      <td>1506.0</td>\n",
       "      <td>0.3</td>\n",
       "      <td>1.1</td>\n",
       "      <td>1.8</td>\n",
       "    </tr>\n",
       "    <tr>\n",
       "      <th>2020-08-01 00:00:00</th>\n",
       "      <td>5642.0</td>\n",
       "      <td>0.7</td>\n",
       "      <td>1.1</td>\n",
       "      <td>1.8</td>\n",
       "    </tr>\n",
       "    <tr>\n",
       "      <th>2020-09-01 00:00:00</th>\n",
       "      <td>3865.0</td>\n",
       "      <td>1.0</td>\n",
       "      <td>1.1</td>\n",
       "      <td>1.8</td>\n",
       "    </tr>\n",
       "    <tr>\n",
       "      <th>2020-10-01 00:00:00</th>\n",
       "      <td>2714.0</td>\n",
       "      <td>0.1</td>\n",
       "      <td>1.4</td>\n",
       "      <td>1.8</td>\n",
       "    </tr>\n",
       "    <tr>\n",
       "      <th>2020-11-01 00:00:00</th>\n",
       "      <td>7768.0</td>\n",
       "      <td>0.6</td>\n",
       "      <td>1.4</td>\n",
       "      <td>1.8</td>\n",
       "    </tr>\n",
       "    <tr>\n",
       "      <th>2020-12-01 00:00:00</th>\n",
       "      <td>26564.0</td>\n",
       "      <td>0.5</td>\n",
       "      <td>1.4</td>\n",
       "      <td>1.8</td>\n",
       "    </tr>\n",
       "    <tr>\n",
       "      <th>2021-01-01 00:00:00</th>\n",
       "      <td>17494.0</td>\n",
       "      <td>0.6</td>\n",
       "      <td>-0.7</td>\n",
       "      <td>0.4</td>\n",
       "    </tr>\n",
       "    <tr>\n",
       "      <th>2021-02-01 00:00:00</th>\n",
       "      <td>11495.0</td>\n",
       "      <td>1.1</td>\n",
       "      <td>-0.7</td>\n",
       "      <td>0.4</td>\n",
       "    </tr>\n",
       "    <tr>\n",
       "      <th>2021-03-01 00:00:00</th>\n",
       "      <td>13430.0</td>\n",
       "      <td>1.5</td>\n",
       "      <td>-0.7</td>\n",
       "      <td>0.4</td>\n",
       "    </tr>\n",
       "    <tr>\n",
       "      <th>2021-04-01 00:00:00</th>\n",
       "      <td>18938.0</td>\n",
       "      <td>2.3</td>\n",
       "      <td>-3.0</td>\n",
       "      <td>-0.7</td>\n",
       "    </tr>\n",
       "    <tr>\n",
       "      <th>2021-05-01 00:00:00</th>\n",
       "      <td>17902.0</td>\n",
       "      <td>2.6</td>\n",
       "      <td>-3.0</td>\n",
       "      <td>-0.7</td>\n",
       "    </tr>\n",
       "    <tr>\n",
       "      <th>2021-06-01 00:00:00</th>\n",
       "      <td>16109.0</td>\n",
       "      <td>2.4</td>\n",
       "      <td>-3.0</td>\n",
       "      <td>-0.7</td>\n",
       "    </tr>\n",
       "    <tr>\n",
       "      <th>2021-07-01 00:00:00</th>\n",
       "      <td>41401.0</td>\n",
       "      <td>2.6</td>\n",
       "      <td>NaN</td>\n",
       "      <td>NaN</td>\n",
       "    </tr>\n",
       "    <tr>\n",
       "      <th>2021-08-01 00:00:00</th>\n",
       "      <td>53121.0</td>\n",
       "      <td>2.6</td>\n",
       "      <td>NaN</td>\n",
       "      <td>NaN</td>\n",
       "    </tr>\n",
       "    <tr>\n",
       "      <th>2021-09-01 00:00:00</th>\n",
       "      <td>59899.0</td>\n",
       "      <td>2.5</td>\n",
       "      <td>NaN</td>\n",
       "      <td>NaN</td>\n",
       "    </tr>\n",
       "    <tr>\n",
       "      <th>2021-10-01 00:00:00</th>\n",
       "      <td>53450.0</td>\n",
       "      <td>3.2</td>\n",
       "      <td>NaN</td>\n",
       "      <td>NaN</td>\n",
       "    </tr>\n",
       "    <tr>\n",
       "      <th>2021-11-01 00:00:00</th>\n",
       "      <td>82565.0</td>\n",
       "      <td>3.7</td>\n",
       "      <td>NaN</td>\n",
       "      <td>NaN</td>\n",
       "    </tr>\n",
       "  </tbody>\n",
       "</table>\n",
       "</div>"
      ],
      "text/plain": [
       "월                       확진자수  소비자 물가 지수  가구 실질 소득 증감률  가구 명목 소득 증감률\n",
       "2020-04-01 00:00:00    979.0        0.1           3.6           3.5\n",
       "2020-05-01 00:00:00    703.0       -0.3           3.6           3.5\n",
       "2020-06-01 00:00:00   1334.0        0.0           3.6           3.5\n",
       "2020-07-01 00:00:00   1506.0        0.3           1.1           1.8\n",
       "2020-08-01 00:00:00   5642.0        0.7           1.1           1.8\n",
       "2020-09-01 00:00:00   3865.0        1.0           1.1           1.8\n",
       "2020-10-01 00:00:00   2714.0        0.1           1.4           1.8\n",
       "2020-11-01 00:00:00   7768.0        0.6           1.4           1.8\n",
       "2020-12-01 00:00:00  26564.0        0.5           1.4           1.8\n",
       "2021-01-01 00:00:00  17494.0        0.6          -0.7           0.4\n",
       "2021-02-01 00:00:00  11495.0        1.1          -0.7           0.4\n",
       "2021-03-01 00:00:00  13430.0        1.5          -0.7           0.4\n",
       "2021-04-01 00:00:00  18938.0        2.3          -3.0          -0.7\n",
       "2021-05-01 00:00:00  17902.0        2.6          -3.0          -0.7\n",
       "2021-06-01 00:00:00  16109.0        2.4          -3.0          -0.7\n",
       "2021-07-01 00:00:00  41401.0        2.6           NaN           NaN\n",
       "2021-08-01 00:00:00  53121.0        2.6           NaN           NaN\n",
       "2021-09-01 00:00:00  59899.0        2.5           NaN           NaN\n",
       "2021-10-01 00:00:00  53450.0        3.2           NaN           NaN\n",
       "2021-11-01 00:00:00  82565.0        3.7           NaN           NaN"
      ]
     },
     "execution_count": 28,
     "metadata": {},
     "output_type": "execute_result"
    }
   ],
   "source": [
    "monthdf=pd.read_excel('./data/월별확진자.xlsx')\n",
    "monthdf=monthdf.set_index('월')\n",
    "monthdf=monthdf.T\n",
    "monthdf"
   ]
  },
  {
   "cell_type": "code",
   "execution_count": 60,
   "id": "a5f60872",
   "metadata": {},
   "outputs": [
    {
     "data": {
      "text/html": [
       "<div>\n",
       "<style scoped>\n",
       "    .dataframe tbody tr th:only-of-type {\n",
       "        vertical-align: middle;\n",
       "    }\n",
       "\n",
       "    .dataframe tbody tr th {\n",
       "        vertical-align: top;\n",
       "    }\n",
       "\n",
       "    .dataframe thead th {\n",
       "        text-align: right;\n",
       "    }\n",
       "</style>\n",
       "<table border=\"1\" class=\"dataframe\">\n",
       "  <thead>\n",
       "    <tr style=\"text-align: right;\">\n",
       "      <th>일</th>\n",
       "      <th>확진자</th>\n",
       "    </tr>\n",
       "  </thead>\n",
       "  <tbody>\n",
       "    <tr>\n",
       "      <th>2021-09-17</th>\n",
       "      <td>2008</td>\n",
       "    </tr>\n",
       "    <tr>\n",
       "      <th>2021-09-18</th>\n",
       "      <td>2087</td>\n",
       "    </tr>\n",
       "    <tr>\n",
       "      <th>2021-09-19</th>\n",
       "      <td>1910</td>\n",
       "    </tr>\n",
       "    <tr>\n",
       "      <th>2021-09-20</th>\n",
       "      <td>1605</td>\n",
       "    </tr>\n",
       "    <tr>\n",
       "      <th>2021-09-21</th>\n",
       "      <td>1729</td>\n",
       "    </tr>\n",
       "    <tr>\n",
       "      <th>...</th>\n",
       "      <td>...</td>\n",
       "    </tr>\n",
       "    <tr>\n",
       "      <th>2021-12-12</th>\n",
       "      <td>6689</td>\n",
       "    </tr>\n",
       "    <tr>\n",
       "      <th>2021-12-13</th>\n",
       "      <td>5817</td>\n",
       "    </tr>\n",
       "    <tr>\n",
       "      <th>2021-12-14</th>\n",
       "      <td>5567</td>\n",
       "    </tr>\n",
       "    <tr>\n",
       "      <th>2021-12-15</th>\n",
       "      <td>7850</td>\n",
       "    </tr>\n",
       "    <tr>\n",
       "      <th>2021-12-16</th>\n",
       "      <td>7622</td>\n",
       "    </tr>\n",
       "  </tbody>\n",
       "</table>\n",
       "<p>91 rows × 1 columns</p>\n",
       "</div>"
      ],
      "text/plain": [
       "일            확진자\n",
       "2021-09-17  2008\n",
       "2021-09-18  2087\n",
       "2021-09-19  1910\n",
       "2021-09-20  1605\n",
       "2021-09-21  1729\n",
       "...          ...\n",
       "2021-12-12  6689\n",
       "2021-12-13  5817\n",
       "2021-12-14  5567\n",
       "2021-12-15  7850\n",
       "2021-12-16  7622\n",
       "\n",
       "[91 rows x 1 columns]"
      ]
     },
     "execution_count": 60,
     "metadata": {},
     "output_type": "execute_result"
    }
   ],
   "source": [
    "daydf=pd.read_excel('./data/일별확진자.xlsx')\n",
    "daydf=daydf.set_index('일')\n",
    "daydf=daydf.T\n",
    "daydf"
   ]
  },
  {
   "cell_type": "code",
   "execution_count": 66,
   "id": "39aa9d49",
   "metadata": {},
   "outputs": [
    {
     "data": {
      "text/plain": [
       "일\n",
       "확진자    3273\n",
       "dtype: int64"
      ]
     },
     "execution_count": 66,
     "metadata": {},
     "output_type": "execute_result"
    }
   ],
   "source": [
    "daydf.iloc[:14].max()"
   ]
  },
  {
   "cell_type": "code",
   "execution_count": 69,
   "id": "28572a01",
   "metadata": {},
   "outputs": [
    {
     "data": {
      "text/plain": [
       "일\n",
       "확진자    2486\n",
       "dtype: int64"
      ]
     },
     "execution_count": 69,
     "metadata": {},
     "output_type": "execute_result"
    }
   ],
   "source": [
    "daydf.iloc[14:45].max()"
   ]
  },
  {
   "cell_type": "code",
   "execution_count": 70,
   "id": "fd644262",
   "metadata": {},
   "outputs": [
    {
     "data": {
      "text/plain": [
       "일\n",
       "확진자    4115\n",
       "dtype: int64"
      ]
     },
     "execution_count": 70,
     "metadata": {},
     "output_type": "execute_result"
    }
   ],
   "source": [
    "daydf.iloc[45:75].max()"
   ]
  },
  {
   "cell_type": "code",
   "execution_count": 72,
   "id": "5544e115",
   "metadata": {},
   "outputs": [
    {
     "data": {
      "text/plain": [
       "일\n",
       "확진자    7850\n",
       "dtype: int64"
      ]
     },
     "execution_count": 72,
     "metadata": {},
     "output_type": "execute_result"
    }
   ],
   "source": [
    "daydf.iloc[75:].max()"
   ]
  },
  {
   "cell_type": "code",
   "execution_count": 57,
   "id": "c843dfa3",
   "metadata": {
    "scrolled": true
   },
   "outputs": [
    {
     "data": {
      "text/plain": [
       "<AxesSubplot:>"
      ]
     },
     "execution_count": 57,
     "metadata": {},
     "output_type": "execute_result"
    },
    {
     "data": {
      "image/png": "[encoded data removed]",
      "text/plain": [
       "<Figure size 720x720 with 1 Axes>"
      ]
     },
     "metadata": {
      "needs_background": "light"
     },
     "output_type": "display_data"
    }
   ],
   "source": [
    "monthdf['확진자수'].plot.bar(figsize=(10,10))\n"
   ]
  },
  {
   "cell_type": "code",
   "execution_count": 49,
   "id": "d680192b",
   "metadata": {},
   "outputs": [
    {
     "data": {
      "text/plain": [
       "<AxesSubplot:>"
      ]
     },
     "execution_count": 49,
     "metadata": {},
     "output_type": "execute_result"
    },
    {
     "data": {
      "image/png": "[encoded data removed]",
      "text/plain": [
       "<Figure size 720x720 with 1 Axes>"
      ]
     },
     "metadata": {
      "needs_background": "light"
     },
     "output_type": "display_data"
    }
   ],
   "source": [
    "monthdf['소비자 물가 지수'].plot(figsize=(10,10))"
   ]
  },
  {
   "cell_type": "code",
   "execution_count": 53,
   "id": "8e19402c",
   "metadata": {},
   "outputs": [
    {
     "data": {
      "text/plain": [
       "<AxesSubplot:>"
      ]
     },
     "execution_count": 53,
     "metadata": {},
     "output_type": "execute_result"
    },
    {
     "data": {
      "image/png": "[encoded data removed]",
      "text/plain": [
       "<Figure size 432x288 with 1 Axes>"
      ]
     },
     "metadata": {
      "needs_background": "light"
     },
     "output_type": "display_data"
    }
   ],
   "source": [
    "monthdf['가구 실질 소득 증감률'].plot()\n",
    "monthdf['가구 명목 소득 증감률'].plot()"
   ]
  },
  {
   "cell_type": "code",
   "execution_count": null,
   "id": "6c4f638a",
   "metadata": {},
   "outputs": [],
   "source": []
  }
 ],
 "metadata": {
  "kernelspec": {
   "display_name": "Python 3 (ipykernel)",
   "language": "python",
   "name": "python3"
  },
  "language_info": {
   "codemirror_mode": {
    "name": "ipython",
    "version": 3
   },
   "file_extension": ".py",
   "mimetype": "text/x-python",
   "name": "python",
   "nbconvert_exporter": "python",
   "pygments_lexer": "ipython3",
   "version": "3.8.11"
  }
 },
 "nbformat": 4,
 "nbformat_minor": 5
}
